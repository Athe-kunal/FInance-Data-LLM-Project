{
 "cells": [
  {
   "cell_type": "markdown",
   "metadata": {},
   "source": [
    "## AGENDA FOR TODAY\n",
    "\n",
    "1. Based on current date, figure out what quarters and yearly data are you getting (do this in the intro page)\n",
    "2. If you don't get the data for a particular stuff, how to handle the error\n",
    "3. Colbert integration based on it"
   ]
  },
  {
   "cell_type": "code",
   "execution_count": 1,
   "metadata": {},
   "outputs": [],
   "source": [
    "from src.vectorDatabase import get_earnings_all_quarters_data\n",
    "from langchain.schema import Document\n",
    "from src.secData import sec_main"
   ]
  },
  {
   "cell_type": "code",
   "execution_count": 5,
   "metadata": {},
   "outputs": [
    {
     "data": {
      "text/plain": [
       "1"
      ]
     },
     "execution_count": 5,
     "metadata": {},
     "output_type": "execute_result"
    }
   ],
   "source": [
    "import datetime as dt\n",
    "import pandas as pd\n",
    "from datetime import date\n",
    "\n",
    "quarter = pd.Timestamp(date.today()).quarter\n",
    "quarter"
   ]
  },
  {
   "cell_type": "code",
   "execution_count": 6,
   "metadata": {},
   "outputs": [
    {
     "data": {
      "text/plain": [
       "int"
      ]
     },
     "execution_count": 6,
     "metadata": {},
     "output_type": "execute_result"
    }
   ],
   "source": [
    "type(pd.Timestamp(date.today()).year)"
   ]
  },
  {
   "cell_type": "code",
   "execution_count": 17,
   "metadata": {},
   "outputs": [],
   "source": [
    "from tenacity import RetryError\n",
    "def get_data(ticker:str,year:int):\n",
    "    curr_timestamp = pd.Timestamp(date.today())\n",
    "    curr_year = curr_timestamp.year\n",
    "    if year<curr_year:\n",
    "        docs = []\n",
    "        # print(\"Earnings Call Q1\")\n",
    "        # try:\n",
    "        #     docs,speakers_list_1 = get_earnings_all_quarters_data(docs, \"Q1\", ticker, year)\n",
    "        # except RetryError:\n",
    "        #     print(f\"Don't have the data for Q1\")\n",
    "        #     speakers_list_1 = []\n",
    "\n",
    "        # print(\"Earnings Call Q2\")\n",
    "        # try:\n",
    "        #     docs,speakers_list_2 = get_earnings_all_quarters_data(docs, \"Q2\", ticker, year)\n",
    "        # except RetryError:\n",
    "        #     print(f\"Don't have the data for Q2\")\n",
    "        #     speakers_list_2 = []\n",
    "        # print(\"Earnings Call Q3\")\n",
    "        # try:\n",
    "        #     docs,speakers_list_3 = get_earnings_all_quarters_data(docs, \"Q3\", ticker, year)\n",
    "        # except RetryError:\n",
    "        #     print(f\"Don't have the data for Q3\")\n",
    "        #     speakers_list_3 = []\n",
    "\n",
    "        print(\"SEC\")\n",
    "        section_texts,_ = sec_main(ticker, year)\n",
    "        for filings in section_texts:\n",
    "            texts_dict = filings[-1]\n",
    "\n",
    "            for section_name, text in texts_dict.items():\n",
    "                docs.append(\n",
    "                    Document(\n",
    "                        page_content=text,\n",
    "                        metadata={\n",
    "                            \"accessionNumber\": filings[0],\n",
    "                            \"filing_type\": filings[1],\n",
    "                            \"filingDate\": filings[2],\n",
    "                            \"reportDate\": filings[3],\n",
    "                            \"sectionName\": section_name,\n",
    "                        },\n",
    "                    )\n",
    "                )\n",
    "        return docs\n",
    "    else:\n",
    "        recent_quarter = curr_timestamp.quarter\n",
    "        "
   ]
  },
  {
   "cell_type": "code",
   "execution_count": 18,
   "metadata": {},
   "outputs": [],
   "source": [
    "ticker = 'GOOGL'"
   ]
  },
  {
   "cell_type": "code",
   "execution_count": 19,
   "metadata": {},
   "outputs": [
    {
     "name": "stdout",
     "output_type": "stream",
     "text": [
      "SEC\n",
      "Started Scraping\n",
      "Scraped\n",
      "Started Extracting\n",
      "Extracted\n"
     ]
    }
   ],
   "source": [
    "docs = get_data(ticker,2023)"
   ]
  },
  {
   "cell_type": "code",
   "execution_count": 21,
   "metadata": {},
   "outputs": [
    {
     "data": {
      "text/plain": [
       "50"
      ]
     },
     "execution_count": 21,
     "metadata": {},
     "output_type": "execute_result"
    }
   ],
   "source": [
    "len(docs)"
   ]
  },
  {
   "cell_type": "code",
   "execution_count": 28,
   "metadata": {},
   "outputs": [
    {
     "name": "stdout",
     "output_type": "stream",
     "text": [
      "10-K/A\n",
      "10-K\n",
      "10-Q\n",
      "10-Q\n",
      "10-Q\n"
     ]
    }
   ],
   "source": [
    "from src.prepline_sec_filings.fetch import get_cik_by_ticker\n",
    "import requests\n",
    "import re\n",
    "from datetime import datetime\n",
    "import pandas as pd\n",
    "\n",
    "year = 2021\n",
    "ticker = 'TSLA'\n",
    "include_amends = True\n",
    "filing_types = ['10-K','10-Q']\n",
    "cik = get_cik_by_ticker(ticker)\n",
    "rgld_cik = int(cik.strip(\"0\"))\n",
    "\n",
    "forms = []\n",
    "if include_amends:\n",
    "    for ft in filing_types:\n",
    "        forms.append(ft)\n",
    "        forms.append(ft+\"/A\")\n",
    "\n",
    "url = f\"https://data.sec.gov/submissions/CIK{cik}.json\"\n",
    "headers = {\n",
    "    \"User-Agent\": \"Mozilla/5.0 (Windows NT 10.0; Win64; x64) AppleWebKit/537.36 (KHTML, like Gecko) Chrome/91.0.4472.124 Safari/537.36\"\n",
    "}\n",
    "# Send a GET request to the URL with headers\n",
    "response = requests.get(url, headers=headers)\n",
    "\n",
    "if response.status_code == 200:\n",
    "    json_data = response.json()\n",
    "else:\n",
    "    print(f\"Error: Unable to fetch data. Status code: {response.status_code}\")\n",
    "\n",
    "form_lists = []\n",
    "filings = json_data[\"filings\"]\n",
    "recent_filings = filings[\"recent\"]\n",
    "quarter_vals = []\n",
    "for acc_num, form_name, filing_date, report_date in zip(\n",
    "    recent_filings[\"accessionNumber\"],\n",
    "    recent_filings[\"form\"],\n",
    "    recent_filings[\"filingDate\"],\n",
    "    recent_filings[\"reportDate\"],\n",
    "):\n",
    "    if form_name in forms and report_date.startswith(str(year)):\n",
    "        if form_name == \"10-Q\":\n",
    "            datetime_obj = datetime.strptime(report_date,'%Y-%m-%d')\n",
    "            quarter = pd.Timestamp(datetime_obj).quarter\n",
    "            quarter_vals.append(str(quarter))\n",
    "            form_name += str(quarter)\n",
    "        no_dashes_acc_num = re.sub(\"-\", \"\", acc_num)\n",
    "        form_lists.append([no_dashes_acc_num, form_name, filing_date, report_date])"
   ]
  },
  {
   "cell_type": "code",
   "execution_count": 29,
   "metadata": {},
   "outputs": [
    {
     "data": {
      "text/plain": [
       "('10-K', '10-K/A', '10-Q', '10-Q/A')"
      ]
     },
     "execution_count": 29,
     "metadata": {},
     "output_type": "execute_result"
    }
   ],
   "source": [
    "tuple(forms)"
   ]
  },
  {
   "cell_type": "code",
   "execution_count": 26,
   "metadata": {},
   "outputs": [
    {
     "data": {
      "text/plain": [
       "True"
      ]
     },
     "execution_count": 26,
     "metadata": {},
     "output_type": "execute_result"
    }
   ],
   "source": [
    "s = '10-K/A'\n",
    "\n",
    "s == forms[1]"
   ]
  },
  {
   "cell_type": "code",
   "execution_count": 20,
   "metadata": {},
   "outputs": [
    {
     "data": {
      "text/plain": [
       "'https://data.sec.gov/submissions/CIK0001318605.json'"
      ]
     },
     "execution_count": 20,
     "metadata": {},
     "output_type": "execute_result"
    }
   ],
   "source": [
    "url"
   ]
  },
  {
   "cell_type": "code",
   "execution_count": 21,
   "metadata": {},
   "outputs": [
    {
     "data": {
      "text/plain": [
       "'0001318605'"
      ]
     },
     "execution_count": 21,
     "metadata": {},
     "output_type": "execute_result"
    }
   ],
   "source": [
    "cik"
   ]
  },
  {
   "cell_type": "code",
   "execution_count": 18,
   "metadata": {},
   "outputs": [
    {
     "data": {
      "text/plain": [
       "4"
      ]
     },
     "execution_count": 18,
     "metadata": {},
     "output_type": "execute_result"
    }
   ],
   "source": [
    "from datetime import datetime\n",
    "\n",
    "d = '2023-10-23'\n",
    "datetime_obj = datetime.strptime(d,'%Y-%m-%d')\n",
    "quarter = pd.Timestamp(datetime_obj).quarter\n",
    "quarter"
   ]
  },
  {
   "cell_type": "code",
   "execution_count": 22,
   "metadata": {},
   "outputs": [],
   "source": [
    "import colbert\n",
    "from colbert import Indexer, Searcher\n",
    "from colbert.infra import Run, RunConfig, ColBERTConfig\n",
    "from colbert.data import Queries, Collection"
   ]
  },
  {
   "cell_type": "code",
   "execution_count": 25,
   "metadata": {},
   "outputs": [],
   "source": [
    "collection = [doc.page_content for doc in docs][:10]"
   ]
  },
  {
   "cell_type": "code",
   "execution_count": 28,
   "metadata": {},
   "outputs": [],
   "source": [
    "nbits = 2   # encode each dimension with 2 bits\n",
    "doc_maxlen = 300 # truncate passages at 300 tokens\n",
    "max_id = 10000\n",
    "\n",
    "index_name = f'SEC.{ticker}.{nbits}bits'"
   ]
  },
  {
   "cell_type": "code",
   "execution_count": 29,
   "metadata": {},
   "outputs": [],
   "source": [
    "import os\n",
    "os.environ['COLBERT_LOAD_TORCH_EXTENSION_VERBOSE'] = \"True\""
   ]
  },
  {
   "cell_type": "code",
   "execution_count": 31,
   "metadata": {},
   "outputs": [],
   "source": [
    "checkpoint = 'colbert-ir/colbertv2.0'\n",
    "\n",
    "with Run().context(RunConfig(nranks=1, experiment='notebook')):  # nranks specifies the number of GPUs to use\n",
    "    config = ColBERTConfig(doc_maxlen=doc_maxlen, nbits=nbits, kmeans_niters=4) # kmeans_niters specifies the number of iterations of k-means clustering; 4 is a good and fast default.\n",
    "                                                                                # Consider larger numbers for small datasets.\n",
    "\n",
    "    indexer = Indexer(checkpoint=checkpoint, config=config)\n",
    "    indexer.index(name=index_name, collection=collection, overwrite=True)"
   ]
  },
  {
   "cell_type": "code",
   "execution_count": null,
   "metadata": {},
   "outputs": [],
   "source": [
    "indexer.get_index() # You can get the absolute path of the index, if needed."
   ]
  },
  {
   "cell_type": "code",
   "execution_count": null,
   "metadata": {},
   "outputs": [],
   "source": [
    "# To create the searcher using its relative name (i.e., not a full path), set\n",
    "# experiment=value_used_for_indexing in the RunConfig.\n",
    "with Run().context(RunConfig(experiment='notebook')):\n",
    "    searcher = Searcher(index=index_name, collection=collection)\n",
    "\n",
    "\n",
    "# If you want to customize the search latency--quality tradeoff, you can also supply a\n",
    "# config=ColBERTConfig(ncells=.., centroid_score_threshold=.., ndocs=..) argument.\n",
    "# The default settings with k <= 10 (1, 0.5, 256) gives the fastest search,\n",
    "# but you can gain more extensive search by setting larger values of k or\n",
    "# manually specifying more conservative ColBERTConfig settings (e.g. (4, 0.4, 4096))."
   ]
  },
  {
   "cell_type": "code",
   "execution_count": null,
   "metadata": {},
   "outputs": [],
   "source": [
    "query = \"What did Apple talk about Generative AI?\" # try with an in-range query or supply your own\n",
    "print(f\"#> {query}\")\n",
    "\n",
    "# Find the top-3 passages for this query\n",
    "results = searcher.search(query, k=3)\n",
    "\n",
    "# Print out the top-k retrieved passages\n",
    "for passage_id, passage_rank, passage_score in zip(*results):\n",
    "    print(f\"\\t [{passage_rank}] \\t\\t {passage_score:.1f} \\t\\t {searcher.collection[passage_id]}\")"
   ]
  }
 ],
 "metadata": {
  "kernelspec": {
   "display_name": "Python 3",
   "language": "python",
   "name": "python3"
  },
  "language_info": {
   "codemirror_mode": {
    "name": "ipython",
    "version": 3
   },
   "file_extension": ".py",
   "mimetype": "text/x-python",
   "name": "python",
   "nbconvert_exporter": "python",
   "pygments_lexer": "ipython3",
   "version": "3.10.12"
  }
 },
 "nbformat": 4,
 "nbformat_minor": 2
}
