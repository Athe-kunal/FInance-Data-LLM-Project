{
 "cells": [
  {
   "cell_type": "code",
   "execution_count": 3,
   "metadata": {},
   "outputs": [],
   "source": [
    "from src.vectorDatabase import get_earnings_all_quarters_data\n",
    "from langchain.schema import Document\n",
    "from src.secData import sec_main"
   ]
  },
  {
   "cell_type": "code",
   "execution_count": 4,
   "metadata": {},
   "outputs": [],
   "source": [
    "def get_data(ticker:str,year:int):\n",
    "    docs = []\n",
    "    print(\"Earnings Call Q1\")\n",
    "    docs,speakers_list_1 = get_earnings_all_quarters_data(docs, \"Q1\", ticker, year)\n",
    "    print(\"Earnings Call Q2\")\n",
    "    docs,speakers_list_2 = get_earnings_all_quarters_data(docs, \"Q2\", ticker, year)\n",
    "    print(\"Earnings Call Q3\")\n",
    "    docs,speakers_list_3 = get_earnings_all_quarters_data(docs, \"Q3\", ticker, year)\n",
    "\n",
    "    print(\"SEC\")\n",
    "    section_texts = sec_main(ticker, year)\n",
    "\n",
    "    for filings in section_texts:\n",
    "        texts_dict = filings[-1]\n",
    "\n",
    "        for section_name, text in texts_dict.items():\n",
    "            docs.append(\n",
    "                Document(\n",
    "                    page_content=text,\n",
    "                    metadata={\n",
    "                        \"accessionNumber\": filings[0],\n",
    "                        \"filing_type\": filings[1],\n",
    "                        \"filingDate\": filings[2],\n",
    "                        \"reportDate\": filings[3],\n",
    "                        \"sectionName\": section_name,\n",
    "                    },\n",
    "                )\n",
    "            )\n",
    "    return docs"
   ]
  },
  {
   "cell_type": "code",
   "execution_count": 10,
   "metadata": {},
   "outputs": [],
   "source": [
    "ticker = 'AAPL'"
   ]
  },
  {
   "cell_type": "code",
   "execution_count": 5,
   "metadata": {},
   "outputs": [
    {
     "name": "stdout",
     "output_type": "stream",
     "text": [
      "Earnings Call Q1\n",
      "Earnings Call Q2\n",
      "Earnings Call Q3\n",
      "SEC\n",
      "Started Scraping\n",
      "Scraped\n",
      "Started Extracting\n",
      "Extracted\n"
     ]
    }
   ],
   "source": [
    "docs = get_data(ticker,2023)"
   ]
  },
  {
   "cell_type": "code",
   "execution_count": 7,
   "metadata": {},
   "outputs": [],
   "source": [
    "import colbert\n",
    "from colbert import Indexer, Searcher\n",
    "from colbert.infra import Run, RunConfig, ColBERTConfig\n",
    "from colbert.data import Queries, Collection"
   ]
  },
  {
   "cell_type": "code",
   "execution_count": 8,
   "metadata": {},
   "outputs": [],
   "source": [
    "collection = [doc.page_content for doc in docs]"
   ]
  },
  {
   "cell_type": "code",
   "execution_count": 11,
   "metadata": {},
   "outputs": [],
   "source": [
    "nbits = 2   # encode each dimension with 2 bits\n",
    "doc_maxlen = 300 # truncate passages at 300 tokens\n",
    "max_id = 10000\n",
    "\n",
    "index_name = f'SEC.Earningcalls.{ticker}.{nbits}bits'"
   ]
  },
  {
   "cell_type": "code",
   "execution_count": 13,
   "metadata": {},
   "outputs": [
    {
     "data": {
      "application/vnd.jupyter.widget-view+json": {
       "model_id": "957eba08318b45f4b5155085c6f2e9b1",
       "version_major": 2,
       "version_minor": 0
      },
      "text/plain": [
       "Downloading artifact.metadata:   0%|          | 0.00/1.63k [00:00<?, ?B/s]"
      ]
     },
     "metadata": {},
     "output_type": "display_data"
    },
    {
     "name": "stdout",
     "output_type": "stream",
     "text": [
      "\n",
      "\n",
      "[Feb 04, 16:42:21] #> Creating directory /home/athekunal/Finance Project/experiments/notebook/indexes/SEC.Earningcalls.AAPL.2bits \n",
      "\n",
      "\n",
      "#> Starting...\n",
      "nranks = 1 \t num_gpus = 1 \t device=0\n",
      "{\n",
      "    \"query_token_id\": \"[unused0]\",\n",
      "    \"doc_token_id\": \"[unused1]\",\n",
      "    \"query_token\": \"[Q]\",\n",
      "    \"doc_token\": \"[D]\",\n",
      "    \"ncells\": null,\n",
      "    \"centroid_score_threshold\": null,\n",
      "    \"ndocs\": null,\n",
      "    \"load_index_with_mmap\": false,\n",
      "    \"index_path\": null,\n",
      "    \"nbits\": 2,\n",
      "    \"kmeans_niters\": 4,\n",
      "    \"resume\": false,\n",
      "    \"similarity\": \"cosine\",\n",
      "    \"bsize\": 64,\n",
      "    \"accumsteps\": 1,\n",
      "    \"lr\": 1e-5,\n",
      "    \"maxsteps\": 400000,\n",
      "    \"save_every\": null,\n",
      "    \"warmup\": 20000,\n",
      "    \"warmup_bert\": null,\n",
      "    \"relu\": false,\n",
      "    \"nway\": 64,\n",
      "    \"use_ib_negatives\": true,\n",
      "    \"reranker\": false,\n",
      "    \"distillation_alpha\": 1.0,\n",
      "    \"ignore_scores\": false,\n",
      "    \"model_name\": null,\n",
      "    \"query_maxlen\": 32,\n",
      "    \"attend_to_mask_tokens\": false,\n",
      "    \"interaction\": \"colbert\",\n",
      "    \"dim\": 128,\n",
      "    \"doc_maxlen\": 300,\n",
      "    \"mask_punctuation\": true,\n",
      "    \"checkpoint\": \"colbert-ir\\/colbertv2.0\",\n",
      "    \"triples\": \"\\/future\\/u\\/okhattab\\/root\\/unit\\/experiments\\/2021.10\\/downstream.distillation.round2.2_score\\/round2.nway6.cosine.ib\\/examples.64.json\",\n",
      "    \"collection\": [\n",
      "        \"list with 226 elements starting with...\",\n",
      "        [\n",
      "            \"Thank you. Speaking first today is Apple's CEO, Tim Cook; and he'll be followed by CFO, Luca Maestri. After that, we'll open the call to questions from analysts.  Before turning the call over to Tim, I would like to remind everyone that the December quarter spanned 14 weeks, while the March quarter, as usual, has 13 weeks. Please note that some of the information you'll hear during our discussion today will consist of forward-looking statements, including, without limitation, those regarding revenue, gross margin, operating expenses, other income and expense, taxes, capital allocation and future business outlook, including the potential impact of COVID-19 on the company's business and results of operations.  These statements involve risks and uncertainties that may cause actual results or trends to differ materially from our forecast. For more information, please refer to the risk factors discussed in Apple's most recently filed annual report on Form 10-K and the Form 8-K filed with the SEC today, along with the associated press release. Apple assumes no obligation to update any forward-looking statements or information which speak as of their respective dates.  I'd now like to turn the call over to Tim for introductory remarks.\",\n",
      "            \"Thank you, Tejas. Good afternoon, everyone, and thanks for joining us.  Today, we're reporting revenue of $117.2 billion for the December quarter. We set all-time revenue records in a number of markets, including Canada, Indonesia, Mexico, Spain, Turkey and Vietnam, along with quarterly records in Brazil and India. As a result of a challenging environment, our revenue was down 5% year-over-year. But I'm proud of the way we have navigated circumstances, seen and unforeseen, over the past several years, and I remain incredibly confident in our team and our mission and in the work we do every day.  Let me discuss the 3 factors that impacted our revenue performance during the quarter. The first was foreign exchange headwinds, which had a nearly 800 basis point impact. On a constant currency basis, we grew year-over-year and would have grown in the vast majority of the markets we track.  The second factor, which we described in a November 6 update was COVID-19-related challenges, which significantly impacted the supply of iPhone 14 Pro and iPhone 14 Pro Max and lasted through most of December. Because of these constraints, we had significantly less iPhone 14 Pro and iPhone 14 Pro Max supply than we planned, causing ship times to extend far beyond what we had anticipated. As we always have every step of the way throughout the pandemic, we continued to prioritize people and worked with our suppliers to ensure the health and safety of every worker. Production is now back where we want it to be.  The third factor was a challenging macroeconomic environment as the world continues to face unprecedented circumstances, from inflation to war in Eastern Europe, to the enduring impacts of the pandemic. And we know that Apple is not immune to it. But whatever conditions we face, our approach is always the same. We are thoughtful and deliberate. We manage for the long term. We adapt quickly to circumstances outside our control while delivering with excellence in the things we can. We invest in innovation, in people and in the positive difference we can make in the world. And we do it all to provide our customers with technology that will enrich their lives and help unlock their full creative potential. It's a wonderful thing to be a part of, and it's so rewarding for all of us at Apple when we hear how much our customers are loving what we create.  Let me talk now about what we saw across our product categories. Starting with iPhone. Revenue came in at $65.8 billion for the quarter, down 8% year-over-year. However, on a constant currency basis, iPhone revenue was roughly flat. Our customers continue to rave about the astounding camera capabilities and unprecedented battery life and the groundbreaking suite of health and safety features. The iPhone 14 lineup pushes the limits of what users can do with a smartphone.  During the quarter, Mac revenue came in at $7.7 billion, which was in line with what we had expected. We had a difficult compare because this time last year, we had the extremely successful launch of the redesigned M1 MacBook Pros. We also faced a challenging macroeconomic environment and foreign exchange headwinds. We remain confident in and focused on the long-term opportunity for Mac.  Just last month, we introduced new MacBook Pro models powered by our latest developments in Apple silicon, M2 Pro and M2 Max. These chips enable unprecedented performance and do so with less energy, which is not only good for the environment but gives the newest MacBook Pro the longest battery life ever in a Mac. We also introduced the M2-powered Mac mini, which will supercharge productivity for users of all kinds and leave them stunned by just how powerful a Mac mini can be.  During the quarter, iPad revenue grew 30% to a total of $9.4 billion. The very strong growth was due in part to a favorable compare to the December quarter a year ago when we experienced significant supply constraints. Customers continue to praise our new lineup for its versatility, whether it's the new iPad Pro now powered by the M2 or the newly designed iPad 10th Generation with its stunning liquid retina display and beautiful colors.  Revenue for Wearables, Home and Accessories was $13.5 billion, which was down 8% year-over-year driven by foreign exchange headwinds and a challenging macroeconomic environment. We remain excited about the long-term opportunity in the category. As an example, a few weeks ago, we announced the next-generation HomePod, which is an indispensable addition to the smart home. This powerful smart speaker relies on advanced computational audio to produce an incredible listening experience. We're also helping users make their homes safer with sound recognition. This feature, arriving later this spring, allows HomePod to send a notification directly to a user's iPhone if a smoke or carbon monoxide alarm sound is identified.  We continue to hear wide praise for Apple Watch Series 8 and Apple Watch Ultra, which has set a new standard for what's possible with a wearable. From a whole host of health and safety features to incredible new capabilities for extreme athletes, there is something for everyone in these amazing products. Customers are excited about some phenomenal new features we've made available across many of our products as well. One of the highlights is emergency SOS via satellite, which launched for iPhone 14 customers in the U.S. and Canada in November and for customers in France, Germany, Ireland and the U.K. in December. This is a feature we hope our users will never need, but it is incredibly heartening to get e-mails from people describing the life-saving impact our new safety features have had on them.  We're always looking for new ways to empower people to create and collaborate. In December, we released Freeform, a brand-new app that lets users take their ideas wherever they want, anywhere they are, all while collaborating in real time. Freeform has already received praise from reviewers for its flexibility and simplicity as it works seamlessly across iPhone, iPad and Mac.  Today, we are very excited to announce that we've achieved a truly incredible milestone. Thanks to our deep commitment to innovation, incredible customer loyalty and satisfaction and a large number of switchers, we now have more than 2 billion active devices as part of our growing installed base, double what it was just 7 years ago. This is an incredible testament to our products and services and the strength of our ecosystem.  We set an all-time revenue record of $20.8 billion in services, which was better than what we had expected. We achieved double-digit revenue growth from App Store subscriptions and set all-time revenue records across a number of categories, including cloud and payment services. All told, Apple now has more than 935 million paid subscriptions.  Apple has also just begun a historic 10-year partnership with Major League Soccer. Just yesterday, we launched MLS Season Pass, which will give fans in more than 100 countries access to every live MLS regular season game as well as the playoffs and MLS Cup, all with no blackouts. And while we're providing more content to sports fans than ever before, Apple TV+ continues to showcase powerful characters and moving storytelling. We were thrilled to celebrate the holidays alongside our Apple TV+ subscribers with the hit movie Spirited. And we're delighted to see how much people are enjoying new and returning series like Shrinking, Slow Horses and Truth Be Told. And we have some great upcoming movies in Sharper and Tetris, along with Emmy Award winner Ted Lasso returning this spring.  During the quarter, we made some great updates to Fitness+ as well, expanding our catalog of more than 3,500 workouts and meditations to include a new kickboxing category and a new sleep theme for meditations. Our latest artist spotlight series features the music of the incomparable Beyonce, and we're excited to take a stroll with guests appearing on our fifth season of Time to Walk. And we continue to build on our decades-long commitment to helping small businesses thrive when we announced Apple Business Connect. This new tool gives business owners even more control over how billions of people see and engage with their products and services every day. Businesses of all sizes can now customize key information for users across Apple Maps, Messages, Wallet, Siri and other apps.  Meanwhile, in retail, we celebrated 25 years of the Apple online store and also opened Apple Pacific Centre in Vancouver and Apple American Dream in New Jersey. And I'm grateful to all the teams who helped our customers throughout the busy holiday season. At Apple, we spend a lot of time focused on creating an unparalleled experience for our customers and every product and service that we offer. We're also just as dedicated to leading with our values in everything we do. As part of that work, we strengthened our deep commitment to privacy and security, giving users 3 new tools to protect their most sensitive data: iMessage contact key verification, security keys for Apple ID and advanced data protection for iCloud.  At Apple, we feel a deep sense of responsibility to leave the world better than we found it. We're also a year closer to 2030, and we were ever focused on the environmental commitments we set out for the end of the decade. As an example, the latest Mac mini and MacBook Pro models all use 100% recycled aluminum in the enclosure and recycled rare earth elements in all magnets. And in a first for HomePod, we're using 100% recycled gold in the plating of multiple printed circuit boards. In honor of Black History Month, we released the Black Unity collection, including the Special Edition Apple Watch Black Unity Sport Loop, a new matching watch face and iPhone wallpaper. Through our racial, equity and justice initiative, we're expanding our support of 5 organizations focused on lifting up communities of color through technology. And we are committed as ever to building on our progress around inclusion and diversity.  During the quarter, we also announced that since the inception of our Giving program 11 years ago, we've donated more than $880 million to humanitarian efforts, disaster relief, childhood education and more. And over the last 16 years through our partnership with (RED), Apple-supported grants have helped more than 11 million people get the care and support services they need.  As we look ahead in 2023, we are excited about the year to come. At Apple, we are always looking forward, always focused on the next challenge, always determined to do great things with unmatched creativity and unrivaled innovation. And that makes me more confident about the future of Apple than I have ever been.  With that, I'll turn it over to Luca.\",\n",
      "            \"Thank you, Tim, and good afternoon, everyone. As Tim mentioned, revenue for the December quarter was $117.2 billion, down 5% from last year. A number of factors had a significant impact on our results. First, we faced a very difficult foreign exchange environment, which affected our performance by nearly 800 basis points. In other words, we grew revenue on a constant currency basis. And in fact, we did so in the vast majority of markets.  Second, the macroeconomic environment this past quarter was markedly more challenging than 12 months ago. Third, we experienced significant supply shortages for iPhone 14 Pro and iPhone 14 Pro Max in November and through December. On the other hand, we had the positive impact of the 14th week in the quarter that Tejas just mentioned at the beginning of the call.  Products revenue was $96.4 billion, down 8% from last year due to the factors I just called out. At the same time, however, our installed base of active devices grew double digits and achieved all-time records in each geographic segment and in each major product category. We're proud to now have over 2 billion active devices in our installed base. This continued growth in the installed base is due to extremely strong levels of customer satisfaction and loyalty and a high number of customers who are new to our products.  The installed base growth also helped our services set an all-time revenue record of $20.8 billion, up 6% over a year ago. We achieved this new milestone despite more than 700 basis points of negative impact from foreign exchange. We reached all-time services revenue records in the Americas, Europe and rest of Asia Pacific and a December quarter record in Greater China. We also set records in many Services categories, including all-time revenue records for cloud services, payment services and music and December quarter records for the App Store and AppleCare. Company gross margin was 43%, up 70 basis points from last quarter due to leverage and favorable mix, partially offset by foreign exchange. Products gross margin was 37%, up 240 basis points sequentially. And Services gross margin was 70.8%, up 30 basis points sequentially, both due to the same factors that impacted total company gross margin.  Operating expenses of $14.3 billion were significantly below the guidance range we provided at the beginning of the quarter and grew at a slower pace than in the past as we took actions to respond to the current macro environment. Net income was $30 billion. Diluted earnings per share were $1.88, and we generated very strong operating cash flow of $34 billion.  Let me now get into more detail for each of our revenue categories. iPhone revenue was $65.8 billion despite significant foreign exchange headwinds, supply constraints on iPhone 14 Pro and iPhone 14 Pro Max and a challenging macroeconomic environment. In spite of these circumstances, we set all-time iPhone revenue records in Canada, Italy and Spain, and saw strong growth in several emerging markets, including all-time iPhone revenue records for India and Vietnam. Importantly, the installed base of active iPhones continues to grow nicely and is at an all-time high across all geographic segments.  In emerging markets, in particular, the installed base grew double digits, and we had record levels of switchers in India and in Mexico. Our customers continue to love their experience with our products with the latest survey of U.S. consumers from 451 Research indicating customer satisfaction of 98% for the iPhone 14 family.  Mac revenue was $7.7 billion, down 29% year-over-year and in line with our expectations. There were 3 key drivers for our Mac results. First, we had a challenging compare against last year's launch of the completely reimagined MacBook Pros, our first notebooks with M1 Pro and M1 Max. Second, we believe that the macro environment impacted our Mac performance. And third, we faced significant foreign exchange headwinds. At the same time, however, the installed base of active Macs reached an all-time high across all geographic segments, and we continue to see very strong upgraded activity to Apple silicon. Customer satisfaction with Mac remains very strong at 96% based on the latest survey of U.S. consumers from 451 Research.  iPad revenue was $9.4 billion, up 30% year-over-year despite significant FX headwinds. This performance was driven by 2 key items. First, during the December quarter a year ago, we experienced significant supply constraints, while this year, we had enough supply to meet demand. Second, we launched our new iPad and the iPad Pro powered by the M2 chip during the quarter. The iPad installed base reached a new all-time high, thanks to incredible customer loyalty and a high number of new customers. In fact, over half of the customers who purchased iPads during the quarter were new to the product.  Wearables, Home and Accessories revenue was $13.5 billion, down 8% year-over-year. The year-over-year decline was driven by significant FX headwinds and a challenging macroeconomic environment. However, our installed base of devices in the category set a new all-time record thanks to the largest number of customers new to our smartwatch that we've ever had in a given quarter. In fact, nearly 2\\/3 of customers purchasing an Apple Watch during the quarter were new to the product.  Moving to Services. We generated $20.8 billion in revenue, a new all-time record in total and for many Services offerings in spite of a difficult foreign exchange environment, and macroeconomic headwinds impacting certain categories such as digital advertising and mobile gaming. In constant currency, we grew Services revenue double digits on top of growing 24% during the December quarter a year ago.  We remain focused on the large long-term opportunity in this category, and we continue to observe several trends that reflect the strength of our ecosystem. For example, we saw increased customer engagement with our Services during the quarter. Both our transacting accounts and paid accounts grew double digits year-over-year, each setting a new all-time record.  Paid subscriptions also continued to grow nicely. We now have more than 935 million paid subscriptions across the services on our platform, up more than 150 million during the last 12 months alone and nearly 4x what we had just 5 years ago.  And we continue to increase the reach and improve the quality of our offerings. For instance, Apple Pay is now available to millions of merchants in nearly 70 countries and regions. And we saw a record-breaking number of purchases made using Apple Pay globally during the holiday shopping season.  Finally, our installed base of over 2 billion active devices represents a great foundation for future expansion of our ecosystem, and it continues to grow even during difficult macroeconomic conditions, which speaks to the exceptionally high levels of customer loyalty and satisfaction and our ability to attract new customers to our platform. The growth is coming from every major product category and geographic segment, with strong double-digit increases in emerging markets such as Brazil, Mexico, India, Indonesia, Thailand and Vietnam.  Turning to the enterprise market. we are seeing continued adoption of our Services for business like Apple Business Essentials, AppleCare, Tap to Pay and Apple Financial Services. For example, Mars Incorporated has expanded its use of AppleCare for Enterprise to provide timely device support and assurance for iPads deployed across their manufacturing sites. Meanwhile, HCA Healthcare has leveraged Apple Financial Services to manage the annual refresh of its entire fleet of iPhones. This not only ensures that their staff stay current on the latest Apple technology, but also provides them with significant annual savings in the process.  Let me now turn to our capital return program and our cash position. We returned over $25 billion to shareholders during the December quarter as our business continues to generate very strong cash flow. This included $3.8 billion in dividends and equivalents and $19 billion through open market repurchases of 133 million Apple shares. We ended the quarter with $165 billion in cash and marketable securities. We repaid $1.4 billion in maturing debt and decreased commercial paper by $8.2 billion, leaving us with total debt of $111 billion. As a result, net cash was $54 billion at the end of the quarter, and we maintain our goal of becoming net cash-neutral over time.  As we move into the March quarter, I'd like to review our outlook, which includes the types of forward-looking information that Tejas referred to at the beginning of the call. Given the continued uncertainty around the world in the near term, we are not providing revenue guidance, but we are sharing some directional insights based on the assumption that the macroeconomic outlook and COVID-related impacts to our business do not worsen from what we are projecting today for the current quarter.  In total, we expect our March quarter year-over-year revenue performance to be similar to the December quarter. This represents an acceleration in our underlying year-over-year business performance as the December quarter benefited from an extra week. Foreign exchange will continue to be a headwind, and we expect a negative year-over-year impact of 5 percentage points.  For Services, we expect revenue to grow year-over-year while continuing to face macroeconomic headwinds in areas such as digital advertising and mobile gaming. For iPhone, we expect our March quarter year-over-year revenue performance to accelerate relative to the December quarter year-over-year revenue performance. For Mac and iPad, we expect revenue for both product categories to decline double digits year-over-year because of challenging compares and macroeconomic headwinds.  We expect gross margin to be between 43.5% and 44.5%. We expect OpEx to be between $13.7 billion and $13.9 billion. We expect OI&E to be around negative $100 million, excluding any potential impact from the mark-to-market of minority investments, and our tax rate to be around 16%.  Finally, today, our Board of Directors has declared a cash dividend of $0.23 per share of common stock payable on February 16, 2023, to shareholders of record as of February 13, 2023.  With that, let's open the call to questions.\"\n",
      "        ]\n",
      "    ],\n",
      "    \"queries\": \"\\/future\\/u\\/okhattab\\/data\\/MSMARCO\\/queries.train.tsv\",\n",
      "    \"index_name\": \"SEC.Earningcalls.AAPL.2bits\",\n",
      "    \"overwrite\": false,\n",
      "    \"root\": \"\\/home\\/athekunal\\/Finance Project\\/experiments\",\n",
      "    \"experiment\": \"notebook\",\n",
      "    \"index_root\": null,\n",
      "    \"name\": \"2024-02\\/04\\/16.34.24\",\n",
      "    \"rank\": 0,\n",
      "    \"nranks\": 1,\n",
      "    \"amp\": true,\n",
      "    \"gpus\": 1,\n",
      "    \"avoid_fork_if_possible\": false\n",
      "}\n"
     ]
    },
    {
     "name": "stderr",
     "output_type": "stream",
     "text": [
      "Downloading config.json: 100%|██████████| 743/743 [00:00<00:00, 5.46MB/s]\n",
      "Downloading model.safetensors: 100%|██████████| 438M/438M [00:27<00:00, 15.9MB/s] \n",
      "Downloading tokenizer_config.json: 100%|██████████| 405/405 [00:00<00:00, 2.88MB/s]\n",
      "Downloading vocab.txt: 100%|██████████| 232k/232k [00:00<00:00, 4.65MB/s]\n",
      "Downloading tokenizer.json: 100%|██████████| 466k/466k [00:00<00:00, 10.4MB/s]\n",
      "Downloading (…)cial_tokens_map.json: 100%|██████████| 112/112 [00:00<00:00, 941kB/s]\n"
     ]
    },
    {
     "name": "stdout",
     "output_type": "stream",
     "text": [
      "[Feb 04, 16:42:55] [0] \t\t # of sampled PIDs = 226 \t sampled_pids[:3] = [106, 187, 2]\n",
      "[Feb 04, 16:42:55] [0] \t\t #> Encoding 226 passages..\n",
      "[Feb 04, 16:42:59] [0] \t\t avg_doclen_est = 103.1460189819336 \t len(local_sample) = 226\n",
      "[Feb 04, 16:42:59] [0] \t\t Creating 2,048 partitions.\n",
      "[Feb 04, 16:42:59] [0] \t\t *Estimated* 23,311 embeddings.\n",
      "[Feb 04, 16:42:59] [0] \t\t #> Saving the indexing plan to /home/athekunal/Finance Project/experiments/notebook/indexes/SEC.Earningcalls.AAPL.2bits/plan.json ..\n"
     ]
    },
    {
     "name": "stderr",
     "output_type": "stream",
     "text": [
      "WARNING clustering 22146 points to 2048 centroids: please provide at least 79872 training points\n"
     ]
    },
    {
     "name": "stdout",
     "output_type": "stream",
     "text": [
      "Clustering 22146 points in 128D to 2048 clusters, redo 1 times, 4 iterations\n",
      "  Preprocessing in 0.00 s\n",
      "  Iteration 3 (0.07 s, search 0.06 s): objective=4118.64 imbalance=1.503 nsplit=0       \n",
      "[Feb 04, 16:43:01] Loading decompress_residuals_cpp extension (set COLBERT_LOAD_TORCH_EXTENSION_VERBOSE=True for more info)...\n"
     ]
    }
   ],
   "source": [
    "checkpoint = 'colbert-ir/colbertv2.0'\n",
    "\n",
    "with Run().context(RunConfig(nranks=1, experiment='notebook')):  # nranks specifies the number of GPUs to use\n",
    "    config = ColBERTConfig(doc_maxlen=doc_maxlen, nbits=nbits, kmeans_niters=4) # kmeans_niters specifies the number of iterations of k-means clustering; 4 is a good and fast default.\n",
    "                                                                                # Consider larger numbers for small datasets.\n",
    "\n",
    "    indexer = Indexer(checkpoint=checkpoint, config=config)\n",
    "    indexer.index(name=index_name, collection=collection, overwrite=True)"
   ]
  },
  {
   "cell_type": "code",
   "execution_count": null,
   "metadata": {},
   "outputs": [],
   "source": [
    "indexer.get_index() # You can get the absolute path of the index, if needed."
   ]
  },
  {
   "cell_type": "code",
   "execution_count": null,
   "metadata": {},
   "outputs": [],
   "source": [
    "# To create the searcher using its relative name (i.e., not a full path), set\n",
    "# experiment=value_used_for_indexing in the RunConfig.\n",
    "with Run().context(RunConfig(experiment='notebook')):\n",
    "    searcher = Searcher(index=index_name, collection=collection)\n",
    "\n",
    "\n",
    "# If you want to customize the search latency--quality tradeoff, you can also supply a\n",
    "# config=ColBERTConfig(ncells=.., centroid_score_threshold=.., ndocs=..) argument.\n",
    "# The default settings with k <= 10 (1, 0.5, 256) gives the fastest search,\n",
    "# but you can gain more extensive search by setting larger values of k or\n",
    "# manually specifying more conservative ColBERTConfig settings (e.g. (4, 0.4, 4096))."
   ]
  },
  {
   "cell_type": "code",
   "execution_count": null,
   "metadata": {},
   "outputs": [],
   "source": [
    "query = \"What did Apple talk about Generative AI?\" # try with an in-range query or supply your own\n",
    "print(f\"#> {query}\")\n",
    "\n",
    "# Find the top-3 passages for this query\n",
    "results = searcher.search(query, k=3)\n",
    "\n",
    "# Print out the top-k retrieved passages\n",
    "for passage_id, passage_rank, passage_score in zip(*results):\n",
    "    print(f\"\\t [{passage_rank}] \\t\\t {passage_score:.1f} \\t\\t {searcher.collection[passage_id]}\")"
   ]
  }
 ],
 "metadata": {
  "kernelspec": {
   "display_name": "Python 3",
   "language": "python",
   "name": "python3"
  },
  "language_info": {
   "codemirror_mode": {
    "name": "ipython",
    "version": 3
   },
   "file_extension": ".py",
   "mimetype": "text/x-python",
   "name": "python",
   "nbconvert_exporter": "python",
   "pygments_lexer": "ipython3",
   "version": "3.10.12"
  }
 },
 "nbformat": 4,
 "nbformat_minor": 2
}
