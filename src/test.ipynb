{
 "cells": [
  {
   "cell_type": "code",
   "execution_count": 1,
   "metadata": {},
   "outputs": [],
   "source": [
    "import requests\n",
    "\n",
    "url = \"https://data.sec.gov/submissions/CIK0000320193.json\"\n",
    "headers = {\n",
    "    'User-Agent': 'Mozilla/5.0 (Windows NT 10.0; Win64; x64) AppleWebKit/537.36 (KHTML, like Gecko) Chrome/91.0.4472.124 Safari/537.36'\n",
    "}\n",
    "\n",
    "# Send a GET request to the URL with headers\n",
    "response = requests.get(url, headers=headers)\n",
    "\n",
    "if response.status_code == 200:\n",
    "    json_data = response.json()\n",
    "    # print(json_data)\n",
    "else:\n",
    "    print(f\"Error: Unable to fetch data. Status code: {response.status_code}\")"
   ]
  },
  {
   "cell_type": "code",
   "execution_count": 2,
   "metadata": {},
   "outputs": [],
   "source": [
    "filings = json_data['filings']"
   ]
  },
  {
   "cell_type": "code",
   "execution_count": 3,
   "metadata": {},
   "outputs": [
    {
     "data": {
      "text/plain": [
       "dict_keys(['cik', 'entityType', 'sic', 'sicDescription', 'insiderTransactionForOwnerExists', 'insiderTransactionForIssuerExists', 'name', 'tickers', 'exchanges', 'ein', 'description', 'website', 'investorWebsite', 'category', 'fiscalYearEnd', 'stateOfIncorporation', 'stateOfIncorporationDescription', 'addresses', 'phone', 'flags', 'formerNames', 'filings'])"
      ]
     },
     "execution_count": 3,
     "metadata": {},
     "output_type": "execute_result"
    }
   ],
   "source": [
    "json_data.keys()"
   ]
  },
  {
   "cell_type": "code",
   "execution_count": 14,
   "metadata": {},
   "outputs": [
    {
     "data": {
      "text/plain": [
       "1000"
      ]
     },
     "execution_count": 14,
     "metadata": {},
     "output_type": "execute_result"
    }
   ],
   "source": [
    "len(filings['recent']['accessionNumber'])"
   ]
  },
  {
   "cell_type": "code",
   "execution_count": 15,
   "metadata": {},
   "outputs": [
    {
     "data": {
      "text/plain": [
       "1000"
      ]
     },
     "execution_count": 15,
     "metadata": {},
     "output_type": "execute_result"
    }
   ],
   "source": [
    "len(filings['recent']['form'])"
   ]
  },
  {
   "cell_type": "code",
   "execution_count": 16,
   "metadata": {},
   "outputs": [
    {
     "data": {
      "text/plain": [
       "dict_keys(['accessionNumber', 'filingDate', 'reportDate', 'acceptanceDateTime', 'act', 'form', 'fileNumber', 'filmNumber', 'items', 'size', 'isXBRL', 'isInlineXBRL', 'primaryDocument', 'primaryDocDescription'])"
      ]
     },
     "execution_count": 16,
     "metadata": {},
     "output_type": "execute_result"
    }
   ],
   "source": [
    "filings['recent'].keys()"
   ]
  },
  {
   "cell_type": "code",
   "execution_count": 7,
   "metadata": {},
   "outputs": [],
   "source": [
    "# filings['recent']['filingDate']"
   ]
  },
  {
   "cell_type": "code",
   "execution_count": 7,
   "metadata": {},
   "outputs": [
    {
     "name": "stdout",
     "output_type": "stream",
     "text": [
      "0000320193-23-000106\n"
     ]
    }
   ],
   "source": [
    "for i,j in zip(filings['recent']['accessionNumber'],filings['recent']['form']):\n",
    "    if j == '10-K': \n",
    "        print(i)\n",
    "        break"
   ]
  },
  {
   "cell_type": "code",
   "execution_count": 13,
   "metadata": {},
   "outputs": [],
   "source": [
    "# filings['recent']['form']"
   ]
  },
  {
   "cell_type": "code",
   "execution_count": 6,
   "metadata": {},
   "outputs": [],
   "source": [
    "from prepline_sec_filings.fetch import (\n",
    "    get_form_by_ticker, open_form_by_ticker, get_filing\n",
    ")\n",
    "\n",
    "# Fetch the 2021 10-K instead of the most recent one\n",
    "rgld_cik = 320193\n",
    "accession_number = \"000032019323000106\"\n",
    "text = get_filing(rgld_cik,\n",
    "                  accession_number,\n",
    "                  company='Unstructured Technologies', \n",
    "                  email='support@unstructured.io')"
   ]
  },
  {
   "cell_type": "code",
   "execution_count": 11,
   "metadata": {},
   "outputs": [
    {
     "name": "stdout",
     "output_type": "stream",
     "text": [
      "d04-4f75-a78c-e87ea3423788,d:1cb1ba018cb1455aa66bd3f9ab0c5b1a--><html xmlns:ix=\"http://www.xbrl.org/2013/inlineXBRL\" xmlns:dei=\"http://xbrl.sec.gov/dei/2023\" xmlns:ixt=\"http://www.xbrl.org/inlineXBRL/transformation/2020-02-12\" xmlns:ixt-sec=\"http://www.sec.gov/inlineXBRL/transformation/2015-08-31\" xmlns:aapl=\"http://www.apple.com/20230930\" xmlns=\"http://www.w3.org/1999/xhtml\" xmlns:link=\"http://www.xbrl.org/2003/linkbase\" xmlns:srt=\"http://fasb.org/srt/2023\" xmlns:xsi=\"http://www.w3.org/2001/XMLSchema-instance\" xmlns:xlink=\"http://www.w3.org/1999/xlink\" xmlns:country=\"http://xbrl.sec.gov/country/2023\" xmlns:us-gaap=\"http://fasb.org/us-gaap/2023\" xmlns:iso4217=\"http://www.xbrl.org/2003/iso4217\" xmlns:xbrli=\"http://www.xbrl.org/2003/instance\" xmlns:xbrldi=\"http://xbrl.org/2006/xbrldi\" xmlns:ecd=\"http://xbrl.sec.gov/ecd/2023\" xml:lang=\"en-US\"><head><meta http-equiv=\"Content-Type\" content=\"text/html\"/>\n",
      "\n",
      "\n",
      "<title>aapl-20230930</title></head><body><div style=\"display:none\"><ix:header><ix:hidden><ix:nonNumeric contextRef=\"c-1\" name=\"dei:AmendmentFlag\" id=\"f-59\">false</ix:nonNumeric><ix:nonNumeric contextRef=\"c-1\" name=\"dei:DocumentFiscalYearFocus\" id=\"f-60\">2023</ix:nonNumeric><ix:nonNumeric contextRef=\"c-1\" name=\"dei:DocumentFiscalPeriodFocus\" id=\"f-61\">FY</ix:nonNumeric><ix:nonNumeric contextRef=\"c-1\" name=\"dei:EntityCentralIndexKey\" id=\"f-62\">0000320193</ix:nonNumeric><ix:nonNumeric contextRef=\"c-59\" name=\"us-gaap:RevenueRemainingPerformanceObligationExpectedTimingOfSatisfactionPeriod1\" id=\"f-397\">P1Y</ix:nonNumeric><ix:nonFraction unitRef=\"number\" contextRef=\"c-59\" decimals=\"2\" name=\"us-gaap:RevenueRemainingPerformanceObligationPercentage\" scale=\"-2\" id=\"f-398\">67</ix:nonFraction><ix:nonNumeric contextRef=\"c-60\" name=\"us-gaap:RevenueRemainingPerformanceObligationExpectedTimingOfSatisfactionPeriod1\" id=\"f-399\">P1Y</ix:nonNumeric><ix:nonFraction unitRef=\"number\" contextRef=\"c-60\" de\n"
     ]
    }
   ],
   "source": [
    "print(text[1375:3284])"
   ]
  },
  {
   "cell_type": "code",
   "execution_count": 12,
   "metadata": {},
   "outputs": [
    {
     "name": "stdout",
     "output_type": "stream",
     "text": [
      "The Company’s business, reputation, results of operations, financial condition and stock price can be affected by a number of factors, whether currently known or unknown, including those described below. When any one or more of these risks materialize from time to time, the Company’s business, reputation, results of operations, financial condition and stock price can be materially and adversely affected.\n",
      "\n",
      "\n",
      "Because of the following factors, as well as other factors affecting the Company’s results of operations and financial condition, past financial performance should not be considered to be a reliable indicator of future performance, and investors should not use historical trends to anticipate results or trends in future periods. This discussion of risk factors contains forward-looking statements.\n",
      "\n",
      "\n",
      "This section should be read in conjunction with Part II, Item 7, “Management’s Discussion and Analysis of Financial Condition and Results of Operations” and the consolidated financial statements and accompanying notes in Part II, Item 8, “Financial Statements and Supplementary Data” of this Form 10-K.\n",
      "\n",
      "\n"
     ]
    }
   ],
   "source": [
    "\n",
    "# pipeline-api\n",
    "from prepline_sec_filings.sections import section_string_to_enum, validate_section_names, SECSection\n",
    "from prepline_sec_filings.sec_document import SECDocument, REPORT_TYPES, VALID_FILING_TYPES\n",
    "\n",
    "sec_document = SECDocument.from_string(text)\n",
    "risk_narrative = sec_document.get_section_narrative(SECSection.RISK_FACTORS)\n",
    "\n",
    "for element in risk_narrative[:3]:\n",
    "    print(element)\n",
    "    print(\"\\n\")\n"
   ]
  },
  {
   "cell_type": "code",
   "execution_count": 1,
   "metadata": {},
   "outputs": [
    {
     "data": {
      "text/plain": [
       "'0000320193'"
      ]
     },
     "execution_count": 1,
     "metadata": {},
     "output_type": "execute_result"
    }
   ],
   "source": [
    "from prepline_sec_filings.fetch import get_cik_by_ticker\n",
    "\n",
    "get_cik_by_ticker('AAPL')"
   ]
  },
  {
   "cell_type": "code",
   "execution_count": 2,
   "metadata": {},
   "outputs": [
    {
     "data": {
      "text/plain": [
       "10"
      ]
     },
     "execution_count": 2,
     "metadata": {},
     "output_type": "execute_result"
    }
   ],
   "source": [
    "cik = '0000320193'"
   ]
  },
  {
   "cell_type": "code",
   "execution_count": 3,
   "metadata": {},
   "outputs": [
    {
     "data": {
      "text/plain": [
       "'0001018724'"
      ]
     },
     "execution_count": 3,
     "metadata": {},
     "output_type": "execute_result"
    }
   ],
   "source": [
    "get_cik_by_ticker('AMZN')"
   ]
  },
  {
   "cell_type": "code",
   "execution_count": 4,
   "metadata": {},
   "outputs": [
    {
     "data": {
      "text/plain": [
       "'0001652044'"
      ]
     },
     "execution_count": 4,
     "metadata": {},
     "output_type": "execute_result"
    }
   ],
   "source": [
    "get_cik_by_ticker('GOOGL')"
   ]
  },
  {
   "cell_type": "code",
   "execution_count": 8,
   "metadata": {},
   "outputs": [
    {
     "data": {
      "text/plain": [
       "1652044"
      ]
     },
     "execution_count": 8,
     "metadata": {},
     "output_type": "execute_result"
    }
   ],
   "source": [
    "s = '0001652044'\n",
    "int(s.strip('0'))"
   ]
  },
  {
   "cell_type": "code",
   "execution_count": 10,
   "metadata": {},
   "outputs": [],
   "source": [
    "from typing import List\n",
    "import re\n",
    "from sec_filings import SECExtractor\n",
    "import concurrent.futures\n",
    "from functools import partial\n",
    "from prepline_sec_filings.fetch import get_cik_by_ticker\n",
    "import requests\n",
    "from prepline_sec_filings.fetch import (\n",
    "    get_form_by_ticker, open_form_by_ticker, get_filing\n",
    ")\n",
    "def sec_main(ticker:str,year:str,forms:List[str] = ['10-K','10-Q']):\n",
    "    cik = get_cik_by_ticker(ticker)\n",
    "    rgld_cik = int(cik.strip('0'))\n",
    "    url = f\"https://data.sec.gov/submissions/CIK{cik}.json\"\n",
    "    headers = {\n",
    "        'User-Agent': 'Mozilla/5.0 (Windows NT 10.0; Win64; x64) AppleWebKit/537.36 (KHTML, like Gecko) Chrome/91.0.4472.124 Safari/537.36'\n",
    "    }\n",
    "\n",
    "    # Send a GET request to the URL with headers\n",
    "    response = requests.get(url, headers=headers)\n",
    "\n",
    "    if response.status_code == 200:\n",
    "        json_data = response.json()\n",
    "    else:\n",
    "        print(f\"Error: Unable to fetch data. Status code: {response.status_code}\")\n",
    "    \n",
    "    form_lists = []\n",
    "    filings = json_data['filings']\n",
    "    recent_filings = filings['recent']\n",
    "    quarter_val = 3\n",
    "    for acc_num,form_name,filing_date,report_date in zip(recent_filings['accessionNumber'],recent_filings['form'],recent_filings['filingDate'],recent_filings['reportDate']):\n",
    "        if form_name in forms and filing_date.startswith(str(year)):\n",
    "            if form_name == \"10-Q\":\n",
    "                form_name+=quarter_val\n",
    "                quarter_val-=1\n",
    "            no_dashes_acc_num = re.sub(\"-\",\"\",acc_num)\n",
    "            form_lists.append([no_dashes_acc_num,form_name,filing_date,report_date])\n",
    "    \n",
    "    acc_nums_list = [l[0] for l in form_lists]\n",
    "\n",
    "    get_filing_partial = partial(get_filing,\n",
    "                                 cik=rgld_cik,\n",
    "                                company='Unstructured Technologies', \n",
    "                                email='support@unstructured.io')\n",
    "    \n",
    "    sec_extractor = SECExtractor(ticker=ticker)\n",
    "\n",
    "    with concurrent.futures.ThreadPoolExecutor(max_workers=4) as executor:\n",
    "        results = executor.map(get_filing_partial, acc_nums_list)\n",
    "    results_texts = []\n",
    "    for res in results:\n",
    "        results_texts.append(res)\n",
    "    assert len(results_texts) == len(acc_nums_list), f\"The scraped text {len(results_texts)} is not matching with accession number texts {len(acc_nums_list)}\"\n",
    "    \n",
    "    with concurrent.futures.ProcessPoolExecutor(max_workers=4) as executor:\n",
    "        results = executor.map(sec_extractor.get_section_texts_from_text,results_texts)\n",
    "    section_texts = []\n",
    "    for res in results:\n",
    "        section_texts.append(res)\n",
    "    assert len(section_texts) == len(acc_nums_list), f\"The section text {len(section_texts)} is not matching with accession number texts {len(acc_nums_list)}\"\n",
    "\n",
    "    for idx,val in enumerate(form_lists):\n",
    "        val.append(section_texts[idx])\n",
    "    return form_lists\n",
    "    "
   ]
  },
  {
   "cell_type": "code",
   "execution_count": 11,
   "metadata": {},
   "outputs": [],
   "source": [
    "appl_texts = sec_main('AAPL',2023)"
   ]
  },
  {
   "cell_type": "code",
   "execution_count": 21,
   "metadata": {},
   "outputs": [],
   "source": [
    "from langchain.schema import Document\n",
    "\n",
    "docs = []\n",
    "\n",
    "for filings in appl_texts:\n",
    "    # print(filings)filingDate\n",
    "    texts_dict = filings[-1]\n",
    "    \n",
    "    for section_name, text in texts_dict.items():\n",
    "        docs.append(Document(page_content=text,metadata={\"accessionNumber\":filings[0],\"filing_type\":filings[1],\"filingDate\":filings[2],\"reportDate\":filings[3],'sectionName':section_name}))"
   ]
  },
  {
   "cell_type": "code",
   "execution_count": 24,
   "metadata": {},
   "outputs": [
    {
     "name": "stdout",
     "output_type": "stream",
     "text": [
      "{'hello': 1, 'there': 2}\n"
     ]
    }
   ],
   "source": [
    "print({\"hello\":1,\"there\":2})"
   ]
  },
  {
   "cell_type": "code",
   "execution_count": 1,
   "metadata": {},
   "outputs": [],
   "source": [
    "f = [\"10-K\",\"10-Q\"]\n",
    "g = [\"10-K\",\"10-Q\", \"10-K/A\",\"10-Q/A\"]"
   ]
  },
  {
   "cell_type": "code",
   "execution_count": 3,
   "metadata": {},
   "outputs": [],
   "source": [
    "include_amends = True\n",
    "k = []\n",
    "if include_amends:\n",
    "    for form in f:\n",
    "        k.append(form)\n",
    "        k.append(form+\"/A\")"
   ]
  },
  {
   "cell_type": "markdown",
   "metadata": {},
   "source": [
    "## QUERYING DATABASE"
   ]
  },
  {
   "cell_type": "code",
   "execution_count": 5,
   "metadata": {},
   "outputs": [
    {
     "name": "stdout",
     "output_type": "stream",
     "text": [
      "Earnings Call Q1\n",
      "Earnings Call Q2\n",
      "Earnings Call Q3\n",
      "SEC\n",
      "Started Scraping\n",
      "Scraped\n",
      "Started Extracting\n",
      "Extracted\n"
     ]
    }
   ],
   "source": [
    "from vectorDatabase import create_database\n",
    "qdrant_client, encoder, speakers_list_1, speakers_list_2, speakers_list_3 = create_database(\"AAPL\",2023)"
   ]
  },
  {
   "cell_type": "code",
   "execution_count": 13,
   "metadata": {},
   "outputs": [],
   "source": [
    "%load_ext autoreload\n",
    "%autoreload 2\n",
    "from queryDatabase import query_database_earnings_call, query_database_sec"
   ]
  },
  {
   "cell_type": "code",
   "execution_count": 14,
   "metadata": {},
   "outputs": [],
   "source": [
    "text = query_database_earnings_call(\n",
    "    question= \"What did Apple do on generative AI?\", quarter=\"Q3\", qdrant_client=qdrant_client, encoder=encoder, speakers_list = speakers_list_3\n",
    ")"
   ]
  },
  {
   "cell_type": "code",
   "execution_count": 15,
   "metadata": {},
   "outputs": [
    {
     "name": "stdout",
     "output_type": "stream",
     "text": [
      "Tim Cook: many more would be possible without AI and machine learning. And so it's absolutely critical to us. And of course, we've been doing research across a wide range of AI technologies, including generative AI for years. We're going to continue investing and innovating and responsibly advancing our products with these technologies with the goal of enriching people's lives. And so that's what it's all about for us. And as you know, we tend to announce things as they come to market, and that's our MO, and I'daround the world. From Detroit, to Naples, to Riyadh and more, we're excited to watch these talented developers embark on careers in coding and find ways to make a positive difference in their communities. Apple remains a champion of innovation, a company fueled by boundless creativity, driven by a deep sense of mission and guided by the unshakable belief that a great idea can change the world. Looking ahead, we'll continue to manage for the long term, always pushing the limits of what's possible andIf you take a step back, we view AI and machine learning as core fundamental technologies that are integral to virtually every product that we build. And so if you think about WWDC in June, we announced some features that will be coming in iOS 17 this fall, like Personal Voice and Live Voicemail. Previously, we had announced lifesaving features like fall detection and crash detection and ECG. None of these features that I just mentioned and many, many more would be possible without AI and machine learning.\n",
      "\n",
      "\n"
     ]
    }
   ],
   "source": [
    "print(text)"
   ]
  },
  {
   "cell_type": "code",
   "execution_count": 27,
   "metadata": {},
   "outputs": [],
   "source": [
    "text = query_database_sec(\n",
    "    question= \"What did Apple do on generative AI?\",\n",
    "    qdrant_client=qdrant_client,encoder=encoder,\n",
    "    search_form=\"10-Q3\"\n",
    ")"
   ]
  },
  {
   "cell_type": "code",
   "execution_count": 28,
   "metadata": {},
   "outputs": [
    {
     "name": "stdout",
     "output_type": "stream",
     "text": [
      "LEGAL_PROCEEDINGS: of Appeals for the Ninth Circuit (the “Circuit Court”) affirmed the District Court’s ruling. On June 7, 2023, the Company and Epic filed petitions with the Circuit Court requesting further review of the decision. On June 30, 2023, the Circuit Court denied both petitions. On July 17, 2023, the Circuit Court granted Apple’s motion to stay enforcement of the injunction pending appeal to the U.S. Supreme Court. Epic has appealed the Circuit Court’s stay of the injunction. If the U.S. Supreme Court reverses the. stay of the injunction. If the U.S. Supreme Court reverses the Circuit Court’s stay of the injunction or declines Apple’s petition, the injunction will take effect. The Company is subject to other legal proceedings and claims that have not been fully resolved and that have arisen in the ordinary course of business. The Company settled certain matters during the third quarter of 2023 that did not individually or in the aggregate have a material impact on the Company’s financial condition or operating. \n",
      "\n",
      "MANAGEMENT_DISCUSSION: lower net sales of iPad and iPhone, partially offset by higher net sales of Services. During the third quarter of 2023, the Company announced the following new products: 15-inch MacBook Air®, powered by the M2 chip; Mac Studio™, powered by the M2 Max chip and the new M2 Ultra chip; Mac Pro®, powered by the new M2 Ultra chip; and Apple Vision Pro™, the Company’s first spatial computer featuring its new visionOS™, expected to be available in early calendar year 2024. The Company also announced iOS 17, macOS. owned subsidiaries, unless otherwise stated. The following discussion should be read in conjunction with the 2022 Form 10-K filed with the U.S. Securities and Exchange Commission (the “SEC”) and the condensed consolidated financial statements and accompanying notes included in Part I, Item 1 of this Form 10-Q. The Company periodically provides certain information for investors on its corporate website, www.apple.com, and its investor relations website, investor.apple.com. This includes press releases and. statements for any reason, except as required by law. Unless otherwise stated, all information presented herein is based on the Company’s fiscal calendar, and references to particular years, quarters, months or periods refer to the Company’s fiscal years ended in September and the associated quarters, months and periods of those fiscal years. Each of the terms the “Company” and “Apple” as used herein refers collectively to Apple Inc. and its wholly owned subsidiaries, unless otherwise stated. The following. \n",
      "\n",
      "\n"
     ]
    }
   ],
   "source": [
    "print(text)"
   ]
  },
  {
   "cell_type": "code",
   "execution_count": null,
   "metadata": {},
   "outputs": [],
   "source": []
  }
 ],
 "metadata": {
  "kernelspec": {
   "display_name": "Python 3",
   "language": "python",
   "name": "python3"
  },
  "language_info": {
   "codemirror_mode": {
    "name": "ipython",
    "version": 3
   },
   "file_extension": ".py",
   "mimetype": "text/x-python",
   "name": "python",
   "nbconvert_exporter": "python",
   "pygments_lexer": "ipython3",
   "version": "3.10.12"
  }
 },
 "nbformat": 4,
 "nbformat_minor": 2
}
