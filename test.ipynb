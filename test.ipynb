{
 "cells": [
  {
   "cell_type": "code",
   "execution_count": 1,
   "metadata": {},
   "outputs": [],
   "source": [
    "import requests\n",
    "\n",
    "url = \"https://data.sec.gov/submissions/CIK0000320193.json\"\n",
    "headers = {\n",
    "    'User-Agent': 'Mozilla/5.0 (Windows NT 10.0; Win64; x64) AppleWebKit/537.36 (KHTML, like Gecko) Chrome/91.0.4472.124 Safari/537.36'\n",
    "}\n",
    "\n",
    "# Send a GET request to the URL with headers\n",
    "response = requests.get(url, headers=headers)\n",
    "\n",
    "if response.status_code == 200:\n",
    "    json_data = response.json()\n",
    "    # print(json_data)\n",
    "else:\n",
    "    print(f\"Error: Unable to fetch data. Status code: {response.status_code}\")"
   ]
  },
  {
   "cell_type": "code",
   "execution_count": 2,
   "metadata": {},
   "outputs": [],
   "source": [
    "filings = json_data['filings']"
   ]
  },
  {
   "cell_type": "code",
   "execution_count": 3,
   "metadata": {},
   "outputs": [
    {
     "data": {
      "text/plain": [
       "dict_keys(['cik', 'entityType', 'sic', 'sicDescription', 'insiderTransactionForOwnerExists', 'insiderTransactionForIssuerExists', 'name', 'tickers', 'exchanges', 'ein', 'description', 'website', 'investorWebsite', 'category', 'fiscalYearEnd', 'stateOfIncorporation', 'stateOfIncorporationDescription', 'addresses', 'phone', 'flags', 'formerNames', 'filings'])"
      ]
     },
     "execution_count": 3,
     "metadata": {},
     "output_type": "execute_result"
    }
   ],
   "source": [
    "json_data.keys()"
   ]
  },
  {
   "cell_type": "code",
   "execution_count": 14,
   "metadata": {},
   "outputs": [
    {
     "data": {
      "text/plain": [
       "1000"
      ]
     },
     "execution_count": 14,
     "metadata": {},
     "output_type": "execute_result"
    }
   ],
   "source": [
    "len(filings['recent']['accessionNumber'])"
   ]
  },
  {
   "cell_type": "code",
   "execution_count": 15,
   "metadata": {},
   "outputs": [
    {
     "data": {
      "text/plain": [
       "1000"
      ]
     },
     "execution_count": 15,
     "metadata": {},
     "output_type": "execute_result"
    }
   ],
   "source": [
    "len(filings['recent']['form'])"
   ]
  },
  {
   "cell_type": "code",
   "execution_count": 16,
   "metadata": {},
   "outputs": [
    {
     "data": {
      "text/plain": [
       "dict_keys(['accessionNumber', 'filingDate', 'reportDate', 'acceptanceDateTime', 'act', 'form', 'fileNumber', 'filmNumber', 'items', 'size', 'isXBRL', 'isInlineXBRL', 'primaryDocument', 'primaryDocDescription'])"
      ]
     },
     "execution_count": 16,
     "metadata": {},
     "output_type": "execute_result"
    }
   ],
   "source": [
    "filings['recent'].keys()"
   ]
  },
  {
   "cell_type": "code",
   "execution_count": 7,
   "metadata": {},
   "outputs": [],
   "source": [
    "# filings['recent']['filingDate']"
   ]
  },
  {
   "cell_type": "code",
   "execution_count": 7,
   "metadata": {},
   "outputs": [
    {
     "name": "stdout",
     "output_type": "stream",
     "text": [
      "0000320193-23-000106\n"
     ]
    }
   ],
   "source": [
    "for i,j in zip(filings['recent']['accessionNumber'],filings['recent']['form']):\n",
    "    if j == '10-K': \n",
    "        print(i)\n",
    "        break"
   ]
  },
  {
   "cell_type": "code",
   "execution_count": 13,
   "metadata": {},
   "outputs": [],
   "source": [
    "# filings['recent']['form']"
   ]
  },
  {
   "cell_type": "code",
   "execution_count": 6,
   "metadata": {},
   "outputs": [],
   "source": [
    "from prepline_sec_filings.fetch import (\n",
    "    get_form_by_ticker, open_form_by_ticker, get_filing\n",
    ")\n",
    "\n",
    "# Fetch the 2021 10-K instead of the most recent one\n",
    "rgld_cik = 320193\n",
    "accession_number = \"000032019323000106\"\n",
    "text = get_filing(rgld_cik,\n",
    "                  accession_number,\n",
    "                  company='Unstructured Technologies', \n",
    "                  email='support@unstructured.io')"
   ]
  },
  {
   "cell_type": "code",
   "execution_count": 11,
   "metadata": {},
   "outputs": [
    {
     "name": "stdout",
     "output_type": "stream",
     "text": [
      "d04-4f75-a78c-e87ea3423788,d:1cb1ba018cb1455aa66bd3f9ab0c5b1a--><html xmlns:ix=\"http://www.xbrl.org/2013/inlineXBRL\" xmlns:dei=\"http://xbrl.sec.gov/dei/2023\" xmlns:ixt=\"http://www.xbrl.org/inlineXBRL/transformation/2020-02-12\" xmlns:ixt-sec=\"http://www.sec.gov/inlineXBRL/transformation/2015-08-31\" xmlns:aapl=\"http://www.apple.com/20230930\" xmlns=\"http://www.w3.org/1999/xhtml\" xmlns:link=\"http://www.xbrl.org/2003/linkbase\" xmlns:srt=\"http://fasb.org/srt/2023\" xmlns:xsi=\"http://www.w3.org/2001/XMLSchema-instance\" xmlns:xlink=\"http://www.w3.org/1999/xlink\" xmlns:country=\"http://xbrl.sec.gov/country/2023\" xmlns:us-gaap=\"http://fasb.org/us-gaap/2023\" xmlns:iso4217=\"http://www.xbrl.org/2003/iso4217\" xmlns:xbrli=\"http://www.xbrl.org/2003/instance\" xmlns:xbrldi=\"http://xbrl.org/2006/xbrldi\" xmlns:ecd=\"http://xbrl.sec.gov/ecd/2023\" xml:lang=\"en-US\"><head><meta http-equiv=\"Content-Type\" content=\"text/html\"/>\n",
      "\n",
      "\n",
      "<title>aapl-20230930</title></head><body><div style=\"display:none\"><ix:header><ix:hidden><ix:nonNumeric contextRef=\"c-1\" name=\"dei:AmendmentFlag\" id=\"f-59\">false</ix:nonNumeric><ix:nonNumeric contextRef=\"c-1\" name=\"dei:DocumentFiscalYearFocus\" id=\"f-60\">2023</ix:nonNumeric><ix:nonNumeric contextRef=\"c-1\" name=\"dei:DocumentFiscalPeriodFocus\" id=\"f-61\">FY</ix:nonNumeric><ix:nonNumeric contextRef=\"c-1\" name=\"dei:EntityCentralIndexKey\" id=\"f-62\">0000320193</ix:nonNumeric><ix:nonNumeric contextRef=\"c-59\" name=\"us-gaap:RevenueRemainingPerformanceObligationExpectedTimingOfSatisfactionPeriod1\" id=\"f-397\">P1Y</ix:nonNumeric><ix:nonFraction unitRef=\"number\" contextRef=\"c-59\" decimals=\"2\" name=\"us-gaap:RevenueRemainingPerformanceObligationPercentage\" scale=\"-2\" id=\"f-398\">67</ix:nonFraction><ix:nonNumeric contextRef=\"c-60\" name=\"us-gaap:RevenueRemainingPerformanceObligationExpectedTimingOfSatisfactionPeriod1\" id=\"f-399\">P1Y</ix:nonNumeric><ix:nonFraction unitRef=\"number\" contextRef=\"c-60\" de\n"
     ]
    }
   ],
   "source": [
    "print(text[1375:3284])"
   ]
  },
  {
   "cell_type": "code",
   "execution_count": 12,
   "metadata": {},
   "outputs": [
    {
     "name": "stdout",
     "output_type": "stream",
     "text": [
      "The Company’s business, reputation, results of operations, financial condition and stock price can be affected by a number of factors, whether currently known or unknown, including those described below. When any one or more of these risks materialize from time to time, the Company’s business, reputation, results of operations, financial condition and stock price can be materially and adversely affected.\n",
      "\n",
      "\n",
      "Because of the following factors, as well as other factors affecting the Company’s results of operations and financial condition, past financial performance should not be considered to be a reliable indicator of future performance, and investors should not use historical trends to anticipate results or trends in future periods. This discussion of risk factors contains forward-looking statements.\n",
      "\n",
      "\n",
      "This section should be read in conjunction with Part II, Item 7, “Management’s Discussion and Analysis of Financial Condition and Results of Operations” and the consolidated financial statements and accompanying notes in Part II, Item 8, “Financial Statements and Supplementary Data” of this Form 10-K.\n",
      "\n",
      "\n"
     ]
    }
   ],
   "source": [
    "\n",
    "# pipeline-api\n",
    "from prepline_sec_filings.sections import section_string_to_enum, validate_section_names, SECSection\n",
    "from prepline_sec_filings.sec_document import SECDocument, REPORT_TYPES, VALID_FILING_TYPES\n",
    "\n",
    "sec_document = SECDocument.from_string(text)\n",
    "risk_narrative = sec_document.get_section_narrative(SECSection.RISK_FACTORS)\n",
    "\n",
    "for element in risk_narrative[:3]:\n",
    "    print(element)\n",
    "    print(\"\\n\")\n"
   ]
  },
  {
   "cell_type": "code",
   "execution_count": 1,
   "metadata": {},
   "outputs": [
    {
     "data": {
      "text/plain": [
       "'0000320193'"
      ]
     },
     "execution_count": 1,
     "metadata": {},
     "output_type": "execute_result"
    }
   ],
   "source": [
    "from prepline_sec_filings.fetch import get_cik_by_ticker\n",
    "\n",
    "get_cik_by_ticker('AAPL')"
   ]
  },
  {
   "cell_type": "code",
   "execution_count": 2,
   "metadata": {},
   "outputs": [
    {
     "data": {
      "text/plain": [
       "10"
      ]
     },
     "execution_count": 2,
     "metadata": {},
     "output_type": "execute_result"
    }
   ],
   "source": [
    "cik = '0000320193'"
   ]
  },
  {
   "cell_type": "code",
   "execution_count": 3,
   "metadata": {},
   "outputs": [
    {
     "data": {
      "text/plain": [
       "'0001018724'"
      ]
     },
     "execution_count": 3,
     "metadata": {},
     "output_type": "execute_result"
    }
   ],
   "source": [
    "get_cik_by_ticker('AMZN')"
   ]
  },
  {
   "cell_type": "code",
   "execution_count": 4,
   "metadata": {},
   "outputs": [
    {
     "data": {
      "text/plain": [
       "'0001652044'"
      ]
     },
     "execution_count": 4,
     "metadata": {},
     "output_type": "execute_result"
    }
   ],
   "source": [
    "get_cik_by_ticker('GOOGL')"
   ]
  },
  {
   "cell_type": "code",
   "execution_count": 8,
   "metadata": {},
   "outputs": [
    {
     "data": {
      "text/plain": [
       "1652044"
      ]
     },
     "execution_count": 8,
     "metadata": {},
     "output_type": "execute_result"
    }
   ],
   "source": [
    "s = '0001652044'\n",
    "int(s.strip('0'))"
   ]
  },
  {
   "cell_type": "code",
   "execution_count": 11,
   "metadata": {},
   "outputs": [],
   "source": [
    "from typing import List\n",
    "import re\n",
    "from src.sec_filings import SECExtractor\n",
    "import concurrent.futures\n",
    "from functools import partial\n",
    "from src.prepline_sec_filings.fetch import get_cik_by_ticker\n",
    "import requests\n",
    "from src.prepline_sec_filings.fetch import (\n",
    "    get_form_by_ticker, open_form_by_ticker, get_filing\n",
    ")\n",
    "def sec_main(ticker:str,year:str,forms:List[str] = ['10-K','10-Q']):\n",
    "    cik = get_cik_by_ticker(ticker)\n",
    "    rgld_cik = int(cik.strip('0'))\n",
    "    url = f\"https://data.sec.gov/submissions/CIK{cik}.json\"\n",
    "    headers = {\n",
    "        'User-Agent': 'Mozilla/5.0 (Windows NT 10.0; Win64; x64) AppleWebKit/537.36 (KHTML, like Gecko) Chrome/91.0.4472.124 Safari/537.36'\n",
    "    }\n",
    "\n",
    "    # Send a GET request to the URL with headers\n",
    "    response = requests.get(url, headers=headers)\n",
    "\n",
    "    if response.status_code == 200:\n",
    "        json_data = response.json()\n",
    "    else:\n",
    "        print(f\"Error: Unable to fetch data. Status code: {response.status_code}\")\n",
    "    \n",
    "    form_lists = []\n",
    "    filings = json_data['filings']\n",
    "    recent_filings = filings['recent']\n",
    "    quarter_val = 3\n",
    "    for acc_num,form_name,filing_date,report_date in zip(recent_filings['accessionNumber'],recent_filings['form'],recent_filings['filingDate'],recent_filings['reportDate']):\n",
    "        if form_name in forms and report_date.startswith(str(year)):\n",
    "            print(form_name)\n",
    "            if form_name == \"10-Q\":\n",
    "                form_name+=str(quarter_val)\n",
    "                quarter_val-=1\n",
    "            no_dashes_acc_num = re.sub(\"-\",\"\",acc_num)\n",
    "            form_lists.append([no_dashes_acc_num,form_name,filing_date,report_date])\n",
    "    \n",
    "    acc_nums_list = [l[0] for l in form_lists]\n",
    "\n",
    "    get_filing_partial = partial(get_filing,\n",
    "                                 cik=rgld_cik,\n",
    "                                company='Unstructured Technologies', \n",
    "                                email='support@unstructured.io')\n",
    "    \n",
    "    sec_extractor = SECExtractor(ticker=ticker)\n",
    "\n",
    "    with concurrent.futures.ThreadPoolExecutor(max_workers=4) as executor:\n",
    "        results = executor.map(get_filing_partial, acc_nums_list)\n",
    "    results_texts = []\n",
    "    for res in results:\n",
    "        results_texts.append(res)\n",
    "    assert len(results_texts) == len(acc_nums_list), f\"The scraped text {len(results_texts)} is not matching with accession number texts {len(acc_nums_list)}\"\n",
    "    \n",
    "    with concurrent.futures.ProcessPoolExecutor(max_workers=4) as executor:\n",
    "        results = executor.map(sec_extractor.get_section_texts_from_text,results_texts)\n",
    "    section_texts = []\n",
    "    for res in results:\n",
    "        section_texts.append(res)\n",
    "    assert len(section_texts) == len(acc_nums_list), f\"The section text {len(section_texts)} is not matching with accession number texts {len(acc_nums_list)}\"\n",
    "\n",
    "    for idx,val in enumerate(form_lists):\n",
    "        val.append(section_texts[idx])\n",
    "    return form_lists\n",
    "    "
   ]
  },
  {
   "cell_type": "code",
   "execution_count": 1,
   "metadata": {},
   "outputs": [
    {
     "name": "stderr",
     "output_type": "stream",
     "text": [
      "[nltk_data] Downloading package punkt to /home/athekunal/nltk_data...\n",
      "[nltk_data]   Package punkt is already up-to-date!\n"
     ]
    },
    {
     "name": "stdout",
     "output_type": "stream",
     "text": [
      "[]\n",
      "['10-Q3']\n",
      "['10-Q3', '10-Q3-1']\n",
      "Started Scraping\n",
      "Scraped\n",
      "Started Extracting\n",
      "Extracted\n"
     ]
    }
   ],
   "source": [
    "from src.secData import sec_main as sm_\n",
    "%load_ext autoreload\n",
    "%autoreload 2\n",
    "texts,fm = sm_('WAT',2023)"
   ]
  },
  {
   "cell_type": "code",
   "execution_count": 2,
   "metadata": {},
   "outputs": [
    {
     "data": {
      "text/plain": [
       "['10-Q3', '10-Q3-1', '10-Q2']"
      ]
     },
     "execution_count": 2,
     "metadata": {},
     "output_type": "execute_result"
    }
   ],
   "source": [
    "fm"
   ]
  },
  {
   "cell_type": "code",
   "execution_count": 21,
   "metadata": {},
   "outputs": [],
   "source": [
    "from langchain.schema import Document\n",
    "\n",
    "docs = []\n",
    "\n",
    "for filings in appl_texts:\n",
    "    # print(filings)filingDate\n",
    "    texts_dict = filings[-1]\n",
    "    \n",
    "    for section_name, text in texts_dict.items():\n",
    "        docs.append(Document(page_content=text,metadata={\"accessionNumber\":filings[0],\"filing_type\":filings[1],\"filingDate\":filings[2],\"reportDate\":filings[3],'sectionName':section_name}))"
   ]
  },
  {
   "cell_type": "code",
   "execution_count": 24,
   "metadata": {},
   "outputs": [
    {
     "name": "stdout",
     "output_type": "stream",
     "text": [
      "{'hello': 1, 'there': 2}\n"
     ]
    }
   ],
   "source": [
    "print({\"hello\":1,\"there\":2})"
   ]
  },
  {
   "cell_type": "code",
   "execution_count": 1,
   "metadata": {},
   "outputs": [],
   "source": [
    "f = [\"10-K\",\"10-Q\"]\n",
    "g = [\"10-K\",\"10-Q\", \"10-K/A\",\"10-Q/A\"]"
   ]
  },
  {
   "cell_type": "code",
   "execution_count": 3,
   "metadata": {},
   "outputs": [],
   "source": [
    "include_amends = True\n",
    "k = []\n",
    "if include_amends:\n",
    "    for form in f:\n",
    "        k.append(form)\n",
    "        k.append(form+\"/A\")"
   ]
  },
  {
   "cell_type": "markdown",
   "metadata": {},
   "source": [
    "## QUERYING DATABASE"
   ]
  },
  {
   "cell_type": "code",
   "execution_count": 16,
   "metadata": {},
   "outputs": [
    {
     "name": "stdout",
     "output_type": "stream",
     "text": [
      "Earnings Call Q1\n",
      "Earnings Call Q2\n",
      "Earnings Call Q3\n",
      "SEC\n",
      "Started Scraping\n",
      "Scraped\n",
      "Started Extracting\n"
     ]
    },
    {
     "name": "stderr",
     "output_type": "stream",
     "text": [
      "huggingface/tokenizers: The current process just got forked, after parallelism has already been used. Disabling parallelism to avoid deadlocks...\n",
      "To disable this warning, you can either:\n",
      "\t- Avoid using `tokenizers` before the fork if possible\n",
      "\t- Explicitly set the environment variable TOKENIZERS_PARALLELISM=(true | false)\n",
      "huggingface/tokenizers: The current process just got forked, after parallelism has already been used. Disabling parallelism to avoid deadlocks...\n",
      "To disable this warning, you can either:\n",
      "\t- Avoid using `tokenizers` before the fork if possible\n",
      "\t- Explicitly set the environment variable TOKENIZERS_PARALLELISM=(true | false)\n",
      "huggingface/tokenizers: The current process just got forked, after parallelism has already been used. Disabling parallelism to avoid deadlocks...\n",
      "To disable this warning, you can either:\n",
      "\t- Avoid using `tokenizers` before the fork if possible\n",
      "\t- Explicitly set the environment variable TOKENIZERS_PARALLELISM=(true | false)\n",
      "huggingface/tokenizers: The current process just got forked, after parallelism has already been used. Disabling parallelism to avoid deadlocks...\n",
      "To disable this warning, you can either:\n",
      "\t- Avoid using `tokenizers` before the fork if possible\n",
      "\t- Explicitly set the environment variable TOKENIZERS_PARALLELISM=(true | false)\n"
     ]
    },
    {
     "name": "stdout",
     "output_type": "stream",
     "text": [
      "Extracted\n"
     ]
    }
   ],
   "source": [
    "from src.vectorDatabase import create_database\n",
    "qdrant_client, encoder, speakers_list_1, speakers_list_2, speakers_list_3 = create_database(\"AMZN\",2023)"
   ]
  },
  {
   "cell_type": "code",
   "execution_count": 17,
   "metadata": {},
   "outputs": [
    {
     "name": "stdout",
     "output_type": "stream",
     "text": [
      "The autoreload extension is already loaded. To reload it, use:\n",
      "  %reload_ext autoreload\n"
     ]
    }
   ],
   "source": [
    "%load_ext autoreload\n",
    "%autoreload 2\n",
    "from src.queryDatabase import query_database_earnings_call, query_database_sec"
   ]
  },
  {
   "cell_type": "code",
   "execution_count": 18,
   "metadata": {},
   "outputs": [],
   "source": [
    "text = query_database_earnings_call(\n",
    "    question= \"What did Amazon do on generative AI?\", quarter=\"Q3\", qdrant_client=qdrant_client, encoder=encoder, speakers_list = speakers_list_3\n",
    ")"
   ]
  },
  {
   "cell_type": "code",
   "execution_count": 19,
   "metadata": {},
   "outputs": [
    {
     "name": "stdout",
     "output_type": "stream",
     "text": [
      "Andrew Jassy: United Airlines, to name a few. We are also seeing success with generative AI start-ups like Perplexity.ai who chose to go all in with AWS, including running future models in Trainium and Inferentia. And the AWS team has a lot of new capabilities to share with its customers at its upcoming AWS re:Invent conference. Beyond AWS, all of our significant businesses are working on generative AI applications to transform their customer experiences. There are too many for me to name on this call but a few exampleslike we do, that equation is going to flip. There's a lot more there for us. And then you look at the very substantial gigantic new generative AI opportunity which I believe will be tens of billions of dollars of revenue for AWS over the next several years, I think we have a unique and broad approach that's really resonating with customers. And you can see it with the array of customers I mentioned that are using us and starting to build workloads for generative AI who have already on top of us. I couldof its kind out there in its current form and customers are excited about it. A few last comments on AWS's generative AI work. As you can tell, we're focused on doing what we've always done for customers, taking technology that can transform customer experiences and businesses but they can be complex and expensive and democratizing it for customers of all sizes and technical abilities. It's also worth remembering that customers want to bring the models to their data, not the other way around. And much of\n",
      "\n",
      "\n"
     ]
    }
   ],
   "source": [
    "print(text)"
   ]
  },
  {
   "cell_type": "code",
   "execution_count": 20,
   "metadata": {},
   "outputs": [],
   "source": [
    "text = query_database_sec(\n",
    "    question= \"What did Apple do on generative AI?\",\n",
    "    qdrant_client=qdrant_client,encoder=encoder,\n",
    "    search_form=\"10-Q1\"\n",
    ")"
   ]
  },
  {
   "cell_type": "code",
   "execution_count": 21,
   "metadata": {},
   "outputs": [
    {
     "name": "stdout",
     "output_type": "stream",
     "text": [
      "LEGAL_PROCEEDINGS: District Court for the Northern District of New York. The complaint alleges, among other things, that “Alexa Voice Software and Alexa enabled devices” infringe U.S. Patent No. 7,177,798, entitled “Natural Language Interface Using Constrained Intermediate Dictionary of Results.” The complaint seeks an injunction, an unspecified amount of damages, enhanced damages, an ongoing royalty, interest, attorneys’ fees, and costs. In March 2023, the plaintiffs alleged in their damages report that in the event of a. The Company is involved from time to time in claims, proceedings, and litigation, including the matters described in Item 8 of Part II, “Financial Statements and Supplementary Data — Note 7 — Commitments and Contingencies — Legal Proceedings” of our 2022 Annual Report on Form 10-K, as supplemented by the following: In May 2018, Rensselaer Polytechnic Institute and CF Dynamic Advances LLC filed a complaint against Amazon.com, Inc. in the United States District Court for the Northern District of New York. The. of trade. In March 2022, the DC Superior Court dismissed the DC Attorney General’s lawsuit in its entirety; the dismissal is under appeal as of January 2023. We dispute the allegations of wrongdoing and intend to defend ourselves vigorously in these matters. Beginning in May 2021, Angela Hogan and her minor child filed purported class-action complaints against Amazon.com, Inc. in the Circuit Court of Cook County, Illinois, and against Amazon.com, Inc. and Amazon.com Services LLC in the United States. Inc. and Amazon.com Services LLC in the United States District Court for the Northern District of Illinois. The complaints allege, among other things, that Amazon’s collection, storage, use, retention, and protection of biometric identifiers violated the Illinois Biometric Information Privacy Act. The complaints allege similar purported classes of Illinois residents who allegedly had biometric identifiers collected from photographs stored in an Amazon Photos account. The complaints seek certification as. \n",
      "\n",
      "RISK_FACTORS: combinations or alliances and established companies in other market segments expand to become competitive with our business. In addition, new and enhanced technologies, including search, web and infrastructure computing services, practical applications of artificial intelligence and machine learning, digital content, and electronic devices continue to increase our competition. The Internet facilitates competitive entry and comparison shopping, which enhances the ability of new, smaller, or lesser known. \n",
      "\n",
      "\n"
     ]
    }
   ],
   "source": [
    "print(text)"
   ]
  },
  {
   "cell_type": "code",
   "execution_count": 22,
   "metadata": {},
   "outputs": [
    {
     "data": {
      "text/plain": [
       "2023"
      ]
     },
     "execution_count": 22,
     "metadata": {},
     "output_type": "execute_result"
    }
   ],
   "source": [
    "s = \"2023\"\n",
    "int(s)"
   ]
  },
  {
   "cell_type": "code",
   "execution_count": 35,
   "metadata": {},
   "outputs": [],
   "source": [
    "import os\n",
    "from dotenv import load_dotenv\n",
    "from functools import lru_cache\n",
    "\n",
    "@lru_cache\n",
    "def return_env():\n",
    "    return os.environ[\"HELLO\"]\n",
    "\n",
    "def set_env():\n",
    "    os.environ[\"HELLO\"] = \"dsf\"\n",
    "    # return_env(True)\n",
    "    # load_dotenv(verbose=True, override=True)\n",
    "# set_env()\n",
    "\n",
    "def print_env():\n",
    "    print(os.environ[\"HELLO\"])"
   ]
  },
  {
   "cell_type": "code",
   "execution_count": 36,
   "metadata": {},
   "outputs": [
    {
     "name": "stdout",
     "output_type": "stream",
     "text": [
      "dsf\n"
     ]
    }
   ],
   "source": [
    "if True:\n",
    "    set_env()\n",
    "print_env()"
   ]
  },
  {
   "cell_type": "code",
   "execution_count": 37,
   "metadata": {},
   "outputs": [],
   "source": [
    "from qdrant_client import QdrantClient\n",
    "\n",
    "qd = QdrantClient(\"sec-earnings-call-db\")"
   ]
  },
  {
   "cell_type": "code",
   "execution_count": 6,
   "metadata": {},
   "outputs": [
    {
     "name": "stdout",
     "output_type": "stream",
     "text": [
      "value of context variable cvar: \n",
      " ['1']\n",
      "\n",
      "value after calling set method: \n",
      " ['1', '2']\n",
      "<ContextVar name='cvar' default=['1'] at 0x7f46e5743bf0>\n",
      "\n",
      "value after calling set method: \n",
      " ['11', '2']\n",
      "\n",
      "Type of object instance returned by set method: \n",
      " <class '_contextvars.Token'>\n",
      "\n",
      "value after calling reset method: \n",
      " ['1', '2']\n"
     ]
    }
   ],
   "source": [
    "# import module \n",
    "import contextvars \n",
    "\n",
    "# declaring the variable \n",
    "# to it's default value \n",
    "data = [\"1\"]\n",
    "cvar = contextvars.ContextVar(\"cvar\", \n",
    "\t\t\t\t\t\t\tdefault = data) \n",
    "\n",
    "print(\"value of context variable cvar: \\n\", \n",
    "\tcvar.get()) \n",
    "\n",
    "# calling set method \n",
    "token = cvar.set([\"1\",\"2\"]) \n",
    "\n",
    "print(\"\\nvalue after calling set method: \\n\", \n",
    "\tcvar.get()) \n",
    "\n",
    "token = cvar.set([\"11\",\"2\"]) \n",
    "print(cvar)\n",
    "print(\"\\nvalue after calling set method: \\n\", \n",
    "\tcvar.get()) \n",
    "# checking the type of token instance \n",
    "print(\"\\nType of object instance returned by set method: \\n\", \n",
    "\ttype(token)) \n",
    "\n",
    "# calling the reset method. \n",
    "cvar.reset(token) \n",
    "\n",
    "print(\"\\nvalue after calling reset method: \\n\", \n",
    "\tcvar.get())\n"
   ]
  },
  {
   "cell_type": "code",
   "execution_count": 1,
   "metadata": {},
   "outputs": [
    {
     "name": "stdout",
     "output_type": "stream",
     "text": [
      "Earnings Call Q1\n",
      "Earnings Call Q2\n",
      "Earnings Call Q3\n",
      "Earnings Call Q4\n",
      "SEC\n",
      "Started Scraping\n",
      "Scraped\n",
      "Started Extracting\n",
      "Extracted\n"
     ]
    }
   ],
   "source": [
    "from src.vectorDatabase import get_all_docs\n",
    "\n",
    "docs,sec_form_names,earnings_call_quarter_vals,speakers_list_1,speakers_list_2,speakers_list_3 = get_all_docs(\"WAT\",2023)"
   ]
  },
  {
   "cell_type": "code",
   "execution_count": 2,
   "metadata": {},
   "outputs": [
    {
     "data": {
      "text/plain": [
       "['10-Q3', '10-Q3', '10-Q2']"
      ]
     },
     "execution_count": 2,
     "metadata": {},
     "output_type": "execute_result"
    }
   ],
   "source": [
    "sec_form_names"
   ]
  },
  {
   "cell_type": "code",
   "execution_count": 4,
   "metadata": {},
   "outputs": [
    {
     "name": "stdout",
     "output_type": "stream",
     "text": [
      "Earnings Call Q1\n",
      "Earnings Call Q2\n",
      "Don't have the data for Q2\n",
      "Earnings Call Q3\n",
      "Don't have the data for Q3\n",
      "Earnings Call Q4\n",
      "Don't have the data for Q4\n",
      "SEC\n",
      "Started Scraping\n",
      "Scraped\n",
      "Started Extracting\n",
      "Extracted\n"
     ]
    },
    {
     "name": "stderr",
     "output_type": "stream",
     "text": [
      "/home/athekunal/Finance-Data-LLM-Project/.venv/lib/python3.10/site-packages/huggingface_hub/file_download.py:1132: FutureWarning: `resume_download` is deprecated and will be removed in version 1.0.0. Downloads always resume when possible. If you want to force a new download, use `force_download=True`.\n",
      "  warnings.warn(\n"
     ]
    },
    {
     "data": {
      "text/plain": [
       "(<qdrant_client.qdrant_client.QdrantClient at 0x7fe468263ac0>,\n",
       " SentenceTransformer(\n",
       "   (0): Transformer({'max_seq_length': 256, 'do_lower_case': False}) with Transformer model: BertModel \n",
       "   (1): Pooling({'word_embedding_dimension': 384, 'pooling_mode_cls_token': False, 'pooling_mode_mean_tokens': True, 'pooling_mode_max_tokens': False, 'pooling_mode_mean_sqrt_len_tokens': False, 'pooling_mode_weightedmean_tokens': False, 'pooling_mode_lasttoken': False})\n",
       "   (2): Normalize()\n",
       " ),\n",
       " ['Kenneth Dorell',\n",
       "  'Mark Zuckerberg',\n",
       "  'Susan Li',\n",
       "  'Operator',\n",
       "  'Eric Sheridan',\n",
       "  'Mark Zuckerberg',\n",
       "  'Operator',\n",
       "  'Brian Nowak',\n",
       "  'Susan Li',\n",
       "  'Operator',\n",
       "  'Mark Shmulik',\n",
       "  'Susan Li',\n",
       "  'Operator',\n",
       "  'Douglas Anmuth',\n",
       "  'Mark Zuckerberg',\n",
       "  'Susan Li',\n",
       "  'Operator',\n",
       "  'Justin Post',\n",
       "  'Susan Li',\n",
       "  'Mark Zuckerberg',\n",
       "  'Operator',\n",
       "  'Youssef Squali',\n",
       "  'Susan Li',\n",
       "  'Operator',\n",
       "  'Ken Gawrelski',\n",
       "  'Susan Li',\n",
       "  'Operator',\n",
       "  'Ross Sandler',\n",
       "  'Mark Zuckerberg',\n",
       "  'Kenneth Dorell',\n",
       "  'Operator',\n",
       "  'Ronald Josey',\n",
       "  'Mark Zuckerberg',\n",
       "  'Kenneth Dorell',\n",
       "  'Operator'],\n",
       " [],\n",
       " [],\n",
       " ['10-Q1'],\n",
       " ['Q1'])"
      ]
     },
     "execution_count": 4,
     "metadata": {},
     "output_type": "execute_result"
    }
   ],
   "source": [
    "from src.vectorDatabaseDocker import create_database\n",
    "\n",
    "create_database('META','2024')"
   ]
  },
  {
   "cell_type": "code",
   "execution_count": null,
   "metadata": {},
   "outputs": [],
   "source": []
  }
 ],
 "metadata": {
  "kernelspec": {
   "display_name": "Python 3",
   "language": "python",
   "name": "python3"
  },
  "language_info": {
   "codemirror_mode": {
    "name": "ipython",
    "version": 3
   },
   "file_extension": ".py",
   "mimetype": "text/x-python",
   "name": "python",
   "nbconvert_exporter": "python",
   "pygments_lexer": "ipython3",
   "version": "3.10.12"
  }
 },
 "nbformat": 4,
 "nbformat_minor": 2
}
